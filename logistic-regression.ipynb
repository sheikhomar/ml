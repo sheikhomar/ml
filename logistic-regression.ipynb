{
 "cells": [
  {
   "cell_type": "markdown",
   "metadata": {},
   "source": [
    "# Logistic Regression"
   ]
  },
  {
   "cell_type": "markdown",
   "metadata": {},
   "source": [
    "Logistic regression is a tool used to solve binary classification problems. Although a linear regression model may be able to solve binary classification problems, the resulting estimates may lie outside the 0 to 1 interval. However, this does not make sense because we want to be able to find the probability that a given data instance belongs to a particular category. Logistic regression models can help us with this using logistic function:"
   ]
  },
  {
   "cell_type": "markdown",
   "metadata": {
    "ExecuteTime": {
     "end_time": "2017-07-31T07:30:36.712241Z",
     "start_time": "2017-07-31T07:30:36.704241Z"
    }
   },
   "source": [
    "\\begin{equation}\n",
    "P( y = 1 \\mid x) = \\frac{e^{\\beta_0 + \\beta_1 x}}{1 + e^{\\beta_0 + \\beta_1 x}} = \\frac{1}{1 + e^{-\\beta_0 - \\beta_1 x}}\n",
    "\\end{equation}"
   ]
  },
  {
   "cell_type": "markdown",
   "metadata": {},
   "source": [
    "We can rewrite the equation above to:"
   ]
  },
  {
   "cell_type": "markdown",
   "metadata": {},
   "source": [
    "\\begin{equation}\n",
    "\\frac{P( y = 1 \\mid x)}{1 - P( y = 1 \\mid x)} =  e^{\\beta_0 + \\beta_1 x}\n",
    "\\end{equation}"
   ]
  },
  {
   "cell_type": "markdown",
   "metadata": {},
   "source": [
    "The left-hand side of the equality is called the *odds*. We get the *log-odds* or *logit* if we take the logarithm of both sides of the equality sign:"
   ]
  },
  {
   "cell_type": "markdown",
   "metadata": {},
   "source": [
    "\\begin{equation}\n",
    "\\log \\left( \\frac{P( y = 1 \\mid x)}{1 - P( y = 1 \\mid x)} \\right) =  \\beta_0 + \\beta_1 x\n",
    "\\end{equation}"
   ]
  },
  {
   "cell_type": "markdown",
   "metadata": {
    "ExecuteTime": {
     "end_time": "2017-07-31T09:50:04.593120Z",
     "start_time": "2017-07-31T09:50:04.584121Z"
    }
   },
   "source": [
    "The coefficients $\\beta_0$ and $\\beta_1$ can be learned using the <a href=\"https://en.wikipedia.org/wiki/Maximum_likelihood_estimation\">maximum likelihood method</a>."
   ]
  },
  {
   "cell_type": "code",
   "execution_count": 10,
   "metadata": {
    "ExecuteTime": {
     "end_time": "2017-07-31T09:25:59.224045Z",
     "start_time": "2017-07-31T09:25:50.571944Z"
    },
    "collapsed": true
   },
   "outputs": [],
   "source": [
    "import numpy as np\n",
    "import pandas as pd\n",
    "import matplotlib.pyplot as plt\n",
    "import seaborn as sns\n",
    "%matplotlib inline"
   ]
  },
  {
   "cell_type": "markdown",
   "metadata": {},
   "source": [
    "The logistic function is characterised by the logistic (sigmoid or S) curve:"
   ]
  },
  {
   "cell_type": "code",
   "execution_count": 27,
   "metadata": {
    "ExecuteTime": {
     "end_time": "2017-07-31T09:53:26.048856Z",
     "start_time": "2017-07-31T09:53:25.803857Z"
    }
   },
   "outputs": [
    {
     "data": {
      "text/plain": [
       "[<matplotlib.lines.Line2D at 0x202c0c442e8>]"
      ]
     },
     "execution_count": 27,
     "metadata": {},
     "output_type": "execute_result"
    },
    {
     "data": {
      "image/png": "[encoded data removed]",
      "text/plain": [
       "<matplotlib.figure.Figure at 0x202c0bb4fd0>"
      ]
     },
     "metadata": {},
     "output_type": "display_data"
    }
   ],
   "source": [
    "X = np.arange(-20, 20)\n",
    "y = 1/ (1 + np.exp(-1*X))\n",
    "plt.plot(X, y)"
   ]
  }
 ],
 "metadata": {
  "kernelspec": {
   "display_name": "Python 3",
   "language": "python",
   "name": "python3"
  },
  "language_info": {
   "codemirror_mode": {
    "name": "ipython",
    "version": 3
   },
   "file_extension": ".py",
   "mimetype": "text/x-python",
   "name": "python",
   "nbconvert_exporter": "python",
   "pygments_lexer": "ipython3",
   "version": "3.6.1"
  }
 },
 "nbformat": 4,
 "nbformat_minor": 2
}
