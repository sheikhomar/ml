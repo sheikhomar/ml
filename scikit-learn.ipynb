{
 "cells": [
  {
   "cell_type": "markdown",
   "metadata": {},
   "source": [
    "# Scikit-Learn\n",
    "scikit-learn is a Python library that provides many machine learning algorithms via a consistent API known as the estimator."
   ]
  },
  {
   "cell_type": "code",
   "execution_count": 13,
   "metadata": {
    "collapsed": true
   },
   "outputs": [],
   "source": [
    "import numpy as np"
   ]
  },
  {
   "cell_type": "markdown",
   "metadata": {},
   "source": [
    "## Validation Data\n",
    "Using validation data, we avoid model overfitting. In general, we split our data set into two partitions:\n",
    "\n",
    " 1. training: used to construct the model.\n",
    " 2. test: represents the future data. \n",
    "\n",
    "The test data is only used to make a final estimate of the generalisation error. It is never used for fine-tuning the model. We can use the `train_test_split()` method to randomly split our data into training and test sets."
   ]
  },
  {
   "cell_type": "code",
   "execution_count": 14,
   "metadata": {
    "collapsed": true
   },
   "outputs": [],
   "source": [
    "from sklearn.model_selection import train_test_split\n",
    "\n",
    "# Let X be our input data consisting of\n",
    "# 5 samples and 2 features\n",
    "X = np.arange(10).reshape(5, 2)\n",
    "\n",
    "# Let y be the target feature\n",
    "y = [0, 1, 2, 3, 4]\n",
    "\n",
    "X_train, X_test, y_train, y_test = train_test_split(X, y, test_size=0.3)"
   ]
  },
  {
   "cell_type": "markdown",
   "metadata": {},
   "source": [
    "## Estimators\n",
    "An Estimator can be seen as a base class for any algorithm that learns from data. It can be a classification, regression or clustering algorithm or a transformer that extracts useful features from raw data."
   ]
  },
  {
   "cell_type": "markdown",
   "metadata": {},
   "source": [
    "### Hyperparameters and Parameters\n",
    "In the documentation, there is a distinction between hyperparameters and parameters. Hyperparameters refers to algorithm settings that is used to tune the algorithm itself. They are usually set when an estimator is initialised. Parameters on the other hand refers to the coefficients found by the learning algorithm."
   ]
  },
  {
   "cell_type": "code",
   "execution_count": 15,
   "metadata": {},
   "outputs": [
    {
     "name": "stdout",
     "output_type": "stream",
     "text": [
      "LinearRegression(copy_X=True, fit_intercept=True, n_jobs=1, normalize=True)\n"
     ]
    }
   ],
   "source": [
    "from sklearn.linear_model import LinearRegression\n",
    "lr = LinearRegression(normalize=True)\n",
    "print(lr) # outputs the name of the estimator and its hyperparameters"
   ]
  },
  {
   "cell_type": "markdown",
   "metadata": {},
   "source": [
    "### Common Methods\n",
    "\n",
    "- `estimator.fit()` fits the training data. For supervised learning algorithms, the `fit(X, y)` method accepts two arguments; `X` is our input data and `y` is our target data. Unsupervised learning estimators accept a single argument in their `fit(X)` method.\n",
    "- `estimator.predict(T)` predicts target features for a new set of data `T`. Some estimators also provide the `estimator.predict_proba()` method. This method returns the probability of an instance being in each of our target values.\n",
    "- `estimator.score()` provides a standard way to evaluate the model that is created by the estimator. The method returns a value from 0 to 1\n",
    "- `estimator.transform(X_new)` transforms new data into the new basis and applies this transformation model to unseen data.\n",
    "- `estimator.fit_transform()` may be more convenient and efficient for modelling and transforming the training data simultaneously."
   ]
  },
  {
   "cell_type": "markdown",
   "metadata": {},
   "source": [
    "### Train, Predict and Evaluate\n",
    "\n",
    " 1. We begin by training our model with our training data using the `estimator.fit(X, y)` method.\n",
    " 2. Once the model is trained, we can predict any target feature on our test data using the `estimator.predict(T)` method.\n",
    " 3. In this step, we evaluate our model by comparing the predictions to the correct values. The evaluation method depends on the algorithm that we have employed."
   ]
  }
 ],
 "metadata": {
  "kernelspec": {
   "display_name": "Python 3",
   "language": "python",
   "name": "python3"
  },
  "language_info": {
   "codemirror_mode": {
    "name": "ipython",
    "version": 3
   },
   "file_extension": ".py",
   "mimetype": "text/x-python",
   "name": "python",
   "nbconvert_exporter": "python",
   "pygments_lexer": "ipython3",
   "version": "3.6.1"
  }
 },
 "nbformat": 4,
 "nbformat_minor": 2
}
