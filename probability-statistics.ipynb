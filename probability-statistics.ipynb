{
 "cells": [
  {
   "cell_type": "markdown",
   "metadata": {},
   "source": [
    " # Probability and Statistics"
   ]
  },
  {
   "cell_type": "code",
   "execution_count": 13,
   "metadata": {
    "ExecuteTime": {
     "end_time": "2018-03-17T13:35:45.096811Z",
     "start_time": "2018-03-17T13:35:45.091309Z"
    },
    "collapsed": true
   },
   "outputs": [],
   "source": [
    "import numpy as np\n",
    "import matplotlib.pyplot as plt\n",
    "\n",
    "from matplotlib.patches import Polygon\n",
    "\n",
    "%matplotlib inline"
   ]
  },
  {
   "cell_type": "markdown",
   "metadata": {},
   "source": [
    "## Continuous Random Variables"
   ]
  },
  {
   "cell_type": "markdown",
   "metadata": {},
   "source": [
    "A continuous random variable, often denoted as $X$, is a quantity whose values range over an interval of numbers."
   ]
  },
  {
   "cell_type": "markdown",
   "metadata": {},
   "source": [
    "## Probability Density Functions"
   ]
  },
  {
   "cell_type": "markdown",
   "metadata": {},
   "source": [
    "Any random variable is associated with a probability density function (PDF), denoted $f(X)$ so that :\n",
    "\n",
    "\\begin{equation*}\n",
    "P(a \\leq X \\leq b) = \\int_{a}^{b} f(X) dx\n",
    "\\end{equation*}\n",
    "\n",
    "Since a probability is between 0 and 1, our PDF must satisfy following two restrictions:\n",
    "\n",
    "1) The PDF must be greater than or equal to zero\n",
    "\n",
    "\\begin{equation*}\n",
    "f(X) \\geq 0 \\text{ for all } X\n",
    "\\end{equation*}\n",
    "\n",
    "2) The total probability must be 1\n",
    "\n",
    "\\begin{equation*}\n",
    "\\int_{-\\infty}^{\\infty} f(X) dx = 1\n",
    "\\end{equation*}\n"
   ]
  },
  {
   "cell_type": "markdown",
   "metadata": {},
   "source": [
    "Assume that we have a random variable $X$ with a probability density function:\n",
    "\n",
    "\\begin{equation*}\n",
    "f(X) = \\frac{1}{9} e^{-X/9}\n",
    "\\end{equation*}"
   ]
  },
  {
   "cell_type": "markdown",
   "metadata": {},
   "source": [
    "Q: How do we compute $P(10 \\leq X \\leq  20)$? What is the probability that $X$ is between 10 and 20?\n",
    "\n",
    "A: We take the definite integral from 10 to 20."
   ]
  },
  {
   "cell_type": "code",
   "execution_count": 28,
   "metadata": {
    "ExecuteTime": {
     "end_time": "2018-03-17T13:51:18.812346Z",
     "start_time": "2018-03-17T13:51:18.602284Z"
    }
   },
   "outputs": [
    {
     "data": {
      "text/plain": [
       "<matplotlib.text.Text at 0x1f955bba588>"
      ]
     },
     "execution_count": 28,
     "metadata": {},
     "output_type": "execute_result"
    },
    {
     "data": {
      "image/png": "[encoded data removed]",
      "text/plain": [
       "<matplotlib.figure.Figure at 0x1f956f3e780>"
      ]
     },
     "metadata": {},
     "output_type": "display_data"
    }
   ],
   "source": [
    "def pdf(X):\n",
    "    return 1/9 * np.exp(-X/9)\n",
    "\n",
    "X = np.linspace(0, 60)\n",
    "y = pdf(X)\n",
    "\n",
    "fig, ax = plt.subplots(figsize=(10, 5))\n",
    "\n",
    "ax.plot(X, y)\n",
    "ax.set_ylim(0)\n",
    "ax.set_xlim(0)\n",
    "\n",
    "a = 10\n",
    "b = 20\n",
    "\n",
    "ix = np.linspace(a, b)\n",
    "iy = pdf(ix)\n",
    "verts = [(a, 0)] + list(zip(ix, iy)) + [(b, 0)]\n",
    "poly = Polygon(verts, facecolor='0.9', edgecolor='0.5')\n",
    "ax.add_patch(poly)\n",
    "\n",
    "ax.text(a+(b-a)/2, pdf(b)/2, r\"$\\int_{%s}^{%s} f(x)\\mathrm{d}x$\" % (a, b),\n",
    "         horizontalalignment='center', fontsize=14)"
   ]
  }
 ],
 "metadata": {
  "kernelspec": {
   "display_name": "Python 3",
   "language": "python",
   "name": "python3"
  },
  "language_info": {
   "codemirror_mode": {
    "name": "ipython",
    "version": 3
   },
   "file_extension": ".py",
   "mimetype": "text/x-python",
   "name": "python",
   "nbconvert_exporter": "python",
   "pygments_lexer": "ipython3",
   "version": "3.6.1"
  },
  "toc": {
   "colors": {
    "hover_highlight": "#DAA520",
    "navigate_num": "#000000",
    "navigate_text": "#333333",
    "running_highlight": "#FF0000",
    "selected_highlight": "#FFD700",
    "sidebar_border": "#EEEEEE",
    "wrapper_background": "#FFFFFF"
   },
   "moveMenuLeft": true,
   "nav_menu": {
    "height": "67px",
    "width": "252px"
   },
   "navigate_menu": true,
   "number_sections": true,
   "sideBar": true,
   "threshold": 4,
   "toc_cell": false,
   "toc_section_display": "block",
   "toc_window_display": false,
   "widenNotebook": false
  }
 },
 "nbformat": 4,
 "nbformat_minor": 2
}
