{
 "cells": [
  {
   "cell_type": "markdown",
   "metadata": {},
   "source": [
    "# Support Vector Machines"
   ]
  },
  {
   "cell_type": "markdown",
   "metadata": {},
   "source": [
    "A Support Vector Machine (SVM) is a supervised model that can be used for both classification and regression problems. In classification, an SVM finds a *hyperplane* that best separates our data into two classes. For instance, a hyperplane in two dimensions is simply a line. In three dimensions, a hyperplane is a plane. Since there are many possible hyperplanes that partitions our data, we need find the best hyperplane. The intuition behind SVM is that the best hyperplane is the one with largest margin to the *support vectors*. A support vector is the data point that touch the margin lines (filled points)."
   ]
  },
  {
   "cell_type": "markdown",
   "metadata": {},
   "source": [
    "<img src=\"images/optimal-hyperplane.png\" />\n",
    "\n",
    "Source [<a href=\"http://docs.opencv.org/2.4/doc/tutorials/ml/introduction_to_svm/introduction_to_svm.html\">#</a>]"
   ]
  },
  {
   "cell_type": "markdown",
   "metadata": {},
   "source": [
    "The hyperplane can also be explained in other way. The distance from the optimal hyperplane and a new point $x'$, tells how much confidence we have in our prediction. If the distance is large then we can be certain that $x'$ is one of the two categories. On the other hand, our prediction confidence would be high whenever $x'$ is close to the decision boundary.\n",
    "\n",
    "The idea above requires that classes are linearly separable. However, by employing *kerneling*, the SVM technique can work with datasets that are not linearly separable. A kernel is a function that projects our data into a higher dimensional space."
   ]
  },
  {
   "cell_type": "markdown",
   "metadata": {},
   "source": [
    "<img src=\"images/kernel-trick-svm.png\" />\n",
    "\n",
    "Source [<a href=\"https://www.linkedin.com/pulse/support-vector-machine-srinivas-kulkarni\">#</a>]"
   ]
  },
  {
   "cell_type": "code",
   "execution_count": null,
   "metadata": {
    "collapsed": true
   },
   "outputs": [],
   "source": []
  }
 ],
 "metadata": {
  "kernelspec": {
   "display_name": "Python 3",
   "language": "python",
   "name": "python3"
  },
  "language_info": {
   "codemirror_mode": {
    "name": "ipython",
    "version": 3
   },
   "file_extension": ".py",
   "mimetype": "text/x-python",
   "name": "python",
   "nbconvert_exporter": "python",
   "pygments_lexer": "ipython3",
   "version": "3.6.1"
  }
 },
 "nbformat": 4,
 "nbformat_minor": 2
}
